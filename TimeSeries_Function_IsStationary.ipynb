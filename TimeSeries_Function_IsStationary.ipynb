{
 "cells": [
  {
   "cell_type": "code",
   "execution_count": null,
   "metadata": {
    "collapsed": true
   },
   "outputs": [],
   "source": [
    "#From Mastering Python Data Analysis, p. 219\n",
    "\"\"\" Augmented Dickey-Fuller test estimates if data is stationary.\n",
    "\n",
    "    ADF value needs to be compared to critical values at 1, 5, 10%. \n",
    "    If the ADF value is below the critical value at 5% and the p-value is less than 0.05, \n",
    "    we can reject the null hypothesis that the data is not staionary at a 95% confidence level.\n",
    "    \n",
    "    This function summarizes the output.\"\"\"\n",
    "\n",
    "from statsmodels.tsa import stattools as stt\n",
    "\n",
    "def is_stationary(df, maxlag=14, autolag=None, regression='ct'):\n",
    "    \"\"\"Run the Augmented Dickey-Fuller test from statsmodels\n",
    "    and print output.\n",
    "    \"\"\"\n",
    "    outpt = stt.adfuller(df,maxlag=maxlag, autolag=autolag,\n",
    "                            regression=regression)\n",
    "    print('adf\\t\\t {0:.3f}'.format(outpt[0]))\n",
    "    print('p\\t\\t {0:.3g}'.format(outpt[1]))\n",
    "    print('crit. val.\\t 1%: {0:.3f}, \\\n",
    "5%: {1:.3f}, 10%: {2:.3f}'.format(outpt[4][\"1%\"], \n",
    "                                     outpt[4][\"5%\"], outpt[4][\"10%\"]))\n",
    "    print('stationary?\\t {0}'.format(['true', 'false']\\\n",
    "                                   [outpt[0]>outpt[4]['5%']]))\n",
    "    return outpt"
   ]
  }
 ],
 "metadata": {
  "kernelspec": {
   "display_name": "Python 3",
   "language": "python",
   "name": "python3"
  },
  "language_info": {
   "codemirror_mode": {
    "name": "ipython",
    "version": 3
   },
   "file_extension": ".py",
   "mimetype": "text/x-python",
   "name": "python",
   "nbconvert_exporter": "python",
   "pygments_lexer": "ipython3",
   "version": "3.5.2"
  }
 },
 "nbformat": 4,
 "nbformat_minor": 0
}
